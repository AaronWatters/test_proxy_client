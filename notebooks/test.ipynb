{
 "cells": [
  {
   "cell_type": "code",
   "execution_count": 4,
   "id": "ad3d3bfe",
   "metadata": {},
   "outputs": [
    {
     "data": {
      "application/vnd.jupyter.widget-view+json": {
       "model_id": "aba0c8f82b9f4f0dbc96d076c2ae677f",
       "version_major": 2,
       "version_minor": 0
      },
      "text/plain": [
       "Button(description='If this is a button widgets are installed.', style=ButtonStyle())"
      ]
     },
     "metadata": {},
     "output_type": "display_data"
    }
   ],
   "source": [
    "import ipywidgets as widgets\n",
    "widgets.Button(description=\"If this is a button widgets are installed.\")"
   ]
  },
  {
   "cell_type": "code",
   "execution_count": 1,
   "id": "6bce21be",
   "metadata": {},
   "outputs": [],
   "source": [
    "from test_proxy_client import hello_proxy"
   ]
  },
  {
   "cell_type": "code",
   "execution_count": 2,
   "id": "4c0eca27",
   "metadata": {},
   "outputs": [
    {
     "data": {
      "application/vnd.jupyter.widget-view+json": {
       "model_id": "a82b2f4555ed4a43b49b8ad59707a8b0",
       "version_major": 2,
       "version_minor": 0
      },
      "text/plain": [
       "JSProxyWidget(status='deferring flush until render')"
      ]
     },
     "metadata": {},
     "output_type": "display_data"
    }
   ],
   "source": [
    "hello_proxy.greeting()"
   ]
  },
  {
   "cell_type": "code",
   "execution_count": null,
   "id": "9174e21d",
   "metadata": {},
   "outputs": [],
   "source": []
  }
 ],
 "metadata": {
  "kernelspec": {
   "display_name": "Python 3",
   "language": "python",
   "name": "python3"
  },
  "language_info": {
   "codemirror_mode": {
    "name": "ipython",
    "version": 3
   },
   "file_extension": ".py",
   "mimetype": "text/x-python",
   "name": "python",
   "nbconvert_exporter": "python",
   "pygments_lexer": "ipython3",
   "version": "3.6.8"
  }
 },
 "nbformat": 4,
 "nbformat_minor": 5
}
